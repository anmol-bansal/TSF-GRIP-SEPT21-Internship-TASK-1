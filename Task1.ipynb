{
 "cells": [
  {
   "cell_type": "markdown",
   "id": "1ae94b04",
   "metadata": {},
   "source": [
    "# The Sparks Foundation (GRIP)"
   ]
  },
  {
   "cell_type": "markdown",
   "id": "824d725b",
   "metadata": {},
   "source": [
    "### Data Science and Business Analytics Internship\n",
    "#### Author : Anmol Bansal\n",
    "### TASK-1 : PREDICTION USING SUPERVISED ML"
   ]
  },
  {
   "cell_type": "markdown",
   "id": "c5c62232",
   "metadata": {},
   "source": [
    "#### About the task : This is a simple linear regression task which aims to predict the expected percentage of a student based on number of study hours."
   ]
  },
  {
   "cell_type": "markdown",
   "id": "bc7f54a0",
   "metadata": {},
   "source": [
    "##### Importing libraries"
   ]
  },
  {
   "cell_type": "code",
   "execution_count": 1,
   "id": "d98272f1",
   "metadata": {},
   "outputs": [],
   "source": [
    "import pandas as pd\n",
    "import numpy as np\n",
    "import matplotlib.pyplot as plt\n",
    "import seaborn as sns\n",
    "from sklearn.linear_model import LinearRegression\n",
    "from sklearn.model_selection import train_test_split\n",
    "from sklearn import metrics"
   ]
  },
  {
   "cell_type": "markdown",
   "id": "6649c29b",
   "metadata": {},
   "source": [
    "##### Reading the data"
   ]
  },
  {
   "cell_type": "code",
   "execution_count": 2,
   "id": "408c44fe",
   "metadata": {},
   "outputs": [],
   "source": [
    "url = \"https://raw.githubusercontent.com/AdiPersonalWorks/Random/master/student_scores%20-%20student_scores.csv\"\n",
    "data = pd.read_csv(\"https://raw.githubusercontent.com/AdiPersonalWorks/Random/master/student_scores%20-%20student_scores.csv\")"
   ]
  },
  {
   "cell_type": "markdown",
   "id": "7f5f549b",
   "metadata": {},
   "source": [
    "##### Checking the data"
   ]
  },
  {
   "cell_type": "code",
   "execution_count": 3,
   "id": "d650ad90",
   "metadata": {},
   "outputs": [
    {
     "data": {
      "text/html": [
       "<div>\n",
       "<style scoped>\n",
       "    .dataframe tbody tr th:only-of-type {\n",
       "        vertical-align: middle;\n",
       "    }\n",
       "\n",
       "    .dataframe tbody tr th {\n",
       "        vertical-align: top;\n",
       "    }\n",
       "\n",
       "    .dataframe thead th {\n",
       "        text-align: right;\n",
       "    }\n",
       "</style>\n",
       "<table border=\"1\" class=\"dataframe\">\n",
       "  <thead>\n",
       "    <tr style=\"text-align: right;\">\n",
       "      <th></th>\n",
       "      <th>Hours</th>\n",
       "      <th>Scores</th>\n",
       "    </tr>\n",
       "  </thead>\n",
       "  <tbody>\n",
       "    <tr>\n",
       "      <th>0</th>\n",
       "      <td>2.5</td>\n",
       "      <td>21</td>\n",
       "    </tr>\n",
       "    <tr>\n",
       "      <th>1</th>\n",
       "      <td>5.1</td>\n",
       "      <td>47</td>\n",
       "    </tr>\n",
       "    <tr>\n",
       "      <th>2</th>\n",
       "      <td>3.2</td>\n",
       "      <td>27</td>\n",
       "    </tr>\n",
       "    <tr>\n",
       "      <th>3</th>\n",
       "      <td>8.5</td>\n",
       "      <td>75</td>\n",
       "    </tr>\n",
       "    <tr>\n",
       "      <th>4</th>\n",
       "      <td>3.5</td>\n",
       "      <td>30</td>\n",
       "    </tr>\n",
       "  </tbody>\n",
       "</table>\n",
       "</div>"
      ],
      "text/plain": [
       "   Hours  Scores\n",
       "0    2.5      21\n",
       "1    5.1      47\n",
       "2    3.2      27\n",
       "3    8.5      75\n",
       "4    3.5      30"
      ]
     },
     "execution_count": 3,
     "metadata": {},
     "output_type": "execute_result"
    }
   ],
   "source": [
    "data.head()"
   ]
  },
  {
   "cell_type": "code",
   "execution_count": 4,
   "id": "7927f263",
   "metadata": {},
   "outputs": [
    {
     "name": "stdout",
     "output_type": "stream",
     "text": [
      "(25, 2)\n",
      "There are 25 rows and 2 columns in the data\n"
     ]
    }
   ],
   "source": [
    "print(data.shape)\n",
    "print(\"There are 25 rows and 2 columns in the data\")"
   ]
  },
  {
   "cell_type": "code",
   "execution_count": 5,
   "id": "1414920d",
   "metadata": {},
   "outputs": [
    {
     "data": {
      "text/html": [
       "<div>\n",
       "<style scoped>\n",
       "    .dataframe tbody tr th:only-of-type {\n",
       "        vertical-align: middle;\n",
       "    }\n",
       "\n",
       "    .dataframe tbody tr th {\n",
       "        vertical-align: top;\n",
       "    }\n",
       "\n",
       "    .dataframe thead th {\n",
       "        text-align: right;\n",
       "    }\n",
       "</style>\n",
       "<table border=\"1\" class=\"dataframe\">\n",
       "  <thead>\n",
       "    <tr style=\"text-align: right;\">\n",
       "      <th></th>\n",
       "      <th>Hours</th>\n",
       "      <th>Scores</th>\n",
       "    </tr>\n",
       "  </thead>\n",
       "  <tbody>\n",
       "    <tr>\n",
       "      <th>count</th>\n",
       "      <td>25.000000</td>\n",
       "      <td>25.000000</td>\n",
       "    </tr>\n",
       "    <tr>\n",
       "      <th>mean</th>\n",
       "      <td>5.012000</td>\n",
       "      <td>51.480000</td>\n",
       "    </tr>\n",
       "    <tr>\n",
       "      <th>std</th>\n",
       "      <td>2.525094</td>\n",
       "      <td>25.286887</td>\n",
       "    </tr>\n",
       "    <tr>\n",
       "      <th>min</th>\n",
       "      <td>1.100000</td>\n",
       "      <td>17.000000</td>\n",
       "    </tr>\n",
       "    <tr>\n",
       "      <th>25%</th>\n",
       "      <td>2.700000</td>\n",
       "      <td>30.000000</td>\n",
       "    </tr>\n",
       "    <tr>\n",
       "      <th>50%</th>\n",
       "      <td>4.800000</td>\n",
       "      <td>47.000000</td>\n",
       "    </tr>\n",
       "    <tr>\n",
       "      <th>75%</th>\n",
       "      <td>7.400000</td>\n",
       "      <td>75.000000</td>\n",
       "    </tr>\n",
       "    <tr>\n",
       "      <th>max</th>\n",
       "      <td>9.200000</td>\n",
       "      <td>95.000000</td>\n",
       "    </tr>\n",
       "  </tbody>\n",
       "</table>\n",
       "</div>"
      ],
      "text/plain": [
       "           Hours     Scores\n",
       "count  25.000000  25.000000\n",
       "mean    5.012000  51.480000\n",
       "std     2.525094  25.286887\n",
       "min     1.100000  17.000000\n",
       "25%     2.700000  30.000000\n",
       "50%     4.800000  47.000000\n",
       "75%     7.400000  75.000000\n",
       "max     9.200000  95.000000"
      ]
     },
     "execution_count": 5,
     "metadata": {},
     "output_type": "execute_result"
    }
   ],
   "source": [
    "data.describe()\n",
    "# This gives basic description about the data"
   ]
  },
  {
   "cell_type": "markdown",
   "id": "0551cbac",
   "metadata": {},
   "source": [
    "##### Data Visualization"
   ]
  },
  {
   "cell_type": "code",
   "execution_count": 6,
   "id": "97baa64e",
   "metadata": {},
   "outputs": [
    {
     "data": {
      "image/png": "[encoded data removed]",
      "text/plain": [
       "<Figure size 432x288 with 1 Axes>"
      ]
     },
     "metadata": {},
     "output_type": "display_data"
    }
   ],
   "source": [
    "# Plotting boxplots\n",
    "sns.set(style='whitegrid')\n",
    "plt.boxplot(data)\n",
    "plt.show()"
   ]
  },
  {
   "cell_type": "code",
   "execution_count": 7,
   "id": "0afb482f",
   "metadata": {},
   "outputs": [
    {
     "data": {
      "text/html": [
       "<div>\n",
       "<style scoped>\n",
       "    .dataframe tbody tr th:only-of-type {\n",
       "        vertical-align: middle;\n",
       "    }\n",
       "\n",
       "    .dataframe tbody tr th {\n",
       "        vertical-align: top;\n",
       "    }\n",
       "\n",
       "    .dataframe thead th {\n",
       "        text-align: right;\n",
       "    }\n",
       "</style>\n",
       "<table border=\"1\" class=\"dataframe\">\n",
       "  <thead>\n",
       "    <tr style=\"text-align: right;\">\n",
       "      <th></th>\n",
       "      <th>Hours</th>\n",
       "      <th>Scores</th>\n",
       "    </tr>\n",
       "  </thead>\n",
       "  <tbody>\n",
       "    <tr>\n",
       "      <th>Hours</th>\n",
       "      <td>1.000000</td>\n",
       "      <td>0.976191</td>\n",
       "    </tr>\n",
       "    <tr>\n",
       "      <th>Scores</th>\n",
       "      <td>0.976191</td>\n",
       "      <td>1.000000</td>\n",
       "    </tr>\n",
       "  </tbody>\n",
       "</table>\n",
       "</div>"
      ],
      "text/plain": [
       "           Hours    Scores\n",
       "Hours   1.000000  0.976191\n",
       "Scores  0.976191  1.000000"
      ]
     },
     "execution_count": 7,
     "metadata": {},
     "output_type": "execute_result"
    }
   ],
   "source": [
    "data.corr()\n",
    "# High positive correlation between \"Hours\" and \"Scores\""
   ]
  },
  {
   "cell_type": "code",
   "execution_count": 8,
   "id": "00c4529c",
   "metadata": {},
   "outputs": [
    {
     "data": {
      "text/plain": [
       "Text(0.5, 1.0, 'ScatterPlot')"
      ]
     },
     "execution_count": 8,
     "metadata": {},
     "output_type": "execute_result"
    },
    {
     "data": {
      "image/png": "[encoded data removed]",
      "text/plain": [
       "<Figure size 432x288 with 1 Axes>"
      ]
     },
     "metadata": {},
     "output_type": "display_data"
    }
   ],
   "source": [
    "# Scatterplot of the variables\n",
    "hours = data[\"Hours\"]\n",
    "scores = data[\"Scores\"]\n",
    "plt.scatter(hours,scores,color='red')\n",
    "plt.xlabel(\"Study hours\")\n",
    "plt.ylabel(\"Scores\")\n",
    "plt.title(\"ScatterPlot\")\n",
    "\n",
    "# There is clearly a linear relationship between the variables"
   ]
  },
  {
   "cell_type": "markdown",
   "id": "f65ea4c1",
   "metadata": {},
   "source": [
    "##### Preparing the data for the model"
   ]
  },
  {
   "cell_type": "code",
   "execution_count": 9,
   "id": "7c341fd7",
   "metadata": {},
   "outputs": [],
   "source": [
    "# Dividing the data into 'attribues' (input variable) and 'labels' (output variable)\n",
    "x = data.iloc[:, :-1].values  # Input variable (independent)\n",
    "y = data.iloc[:, 1].values   # Output variable (dependent)"
   ]
  },
  {
   "cell_type": "markdown",
   "id": "a703cdaa",
   "metadata": {},
   "source": [
    "##### Splitting the data"
   ]
  },
  {
   "cell_type": "code",
   "execution_count": 10,
   "id": "edcbaab7",
   "metadata": {},
   "outputs": [],
   "source": [
    "x_train,x_test,y_train,y_test = train_test_split(x,y,test_size=0.2,random_state=0)"
   ]
  },
  {
   "cell_type": "code",
   "execution_count": 11,
   "id": "6fc4b23f",
   "metadata": {},
   "outputs": [
    {
     "name": "stdout",
     "output_type": "stream",
     "text": [
      "shape of x_train is (20, 1)\n",
      "shape of x_test is (5, 1)\n",
      "shape of y_train is (20,)\n",
      "shape of y_test is (5, 1)\n"
     ]
    }
   ],
   "source": [
    "print('shape of x_train is {}'.format(x_train.shape))\n",
    "print('shape of x_test is {}'.format(x_test.shape))\n",
    "print('shape of y_train is {}'.format(y_train.shape))\n",
    "print('shape of y_test is {}'.format(x_test.shape))"
   ]
  },
  {
   "cell_type": "markdown",
   "id": "260b3e35",
   "metadata": {},
   "source": [
    "##### Training the Algorithm"
   ]
  },
  {
   "cell_type": "code",
   "execution_count": 12,
   "id": "5b25f03d",
   "metadata": {},
   "outputs": [
    {
     "name": "stdout",
     "output_type": "stream",
     "text": [
      "Training completed!\n"
     ]
    }
   ],
   "source": [
    "reg = LinearRegression()\n",
    "reg.fit(x_train,y_train)\n",
    "print(\"Training completed!\")"
   ]
  },
  {
   "cell_type": "code",
   "execution_count": 13,
   "id": "3062decc",
   "metadata": {},
   "outputs": [
    {
     "name": "stdout",
     "output_type": "stream",
     "text": [
      "Intercept of the model is 2.018160041434683\n",
      "Coefficient of the model is [9.91065648]\n"
     ]
    }
   ],
   "source": [
    "print('Intercept of the model is {}'.format(reg.intercept_))\n",
    "print('Coefficient of the model is {}'.format(reg.coef_))"
   ]
  },
  {
   "cell_type": "markdown",
   "id": "421c4eaa",
   "metadata": {},
   "source": [
    "##### Plotting data points and the regression line"
   ]
  },
  {
   "cell_type": "code",
   "execution_count": 14,
   "id": "ca89a31c",
   "metadata": {},
   "outputs": [
    {
     "data": {
      "image/png": "[encoded data removed]",
      "text/plain": [
       "<Figure size 432x288 with 1 Axes>"
      ]
     },
     "metadata": {},
     "output_type": "display_data"
    }
   ],
   "source": [
    "reg_line = reg.intercept_ + (reg.coef_*x)\n",
    "plt.scatter(x,y)\n",
    "plt.plot(x,reg_line,color='red')\n",
    "plt.xlabel(\"Study Hours\")\n",
    "plt.ylabel(\"Scores\")\n",
    "plt.show()"
   ]
  },
  {
   "cell_type": "markdown",
   "id": "e92337b6",
   "metadata": {},
   "source": [
    "##### Making predictions "
   ]
  },
  {
   "cell_type": "code",
   "execution_count": 15,
   "id": "bf4ac10a",
   "metadata": {},
   "outputs": [],
   "source": [
    "y_pred = reg.predict(x_test)  # Predicting using the test data"
   ]
  },
  {
   "cell_type": "code",
   "execution_count": 16,
   "id": "1f6a431d",
   "metadata": {},
   "outputs": [
    {
     "name": "stdout",
     "output_type": "stream",
     "text": [
      "   Actual Scores  Predicted Scores\n",
      "0             20         16.884145\n",
      "1             27         33.732261\n",
      "2             69         75.357018\n",
      "3             30         26.794801\n",
      "4             62         60.491033\n"
     ]
    }
   ],
   "source": [
    "# Actual vs Preidicted\n",
    "df = pd.DataFrame({\"Actual Scores\" : y_test , \"Predicted Scores\" : y_pred})\n",
    "print(df)"
   ]
  },
  {
   "cell_type": "markdown",
   "id": "b47fcc30",
   "metadata": {},
   "source": [
    "##### Predicting the score for a student who studies for 9.25 hrs/day"
   ]
  },
  {
   "cell_type": "code",
   "execution_count": 17,
   "id": "5b8b7101",
   "metadata": {},
   "outputs": [
    {
     "name": "stdout",
     "output_type": "stream",
     "text": [
      "Expected Score for a student who studies for 9.25 hrs/day is 93.69173248737538\n"
     ]
    }
   ],
   "source": [
    "hours = 9.25\n",
    "pred_score = reg.predict([[hours]])\n",
    "print(\"Expected Score for a student who studies for 9.25 hrs/day is {}\".format(pred_score[0]))"
   ]
  },
  {
   "cell_type": "markdown",
   "id": "696d1b6a",
   "metadata": {},
   "source": [
    "##### Model Evaluation"
   ]
  },
  {
   "cell_type": "code",
   "execution_count": 22,
   "id": "499364cc",
   "metadata": {},
   "outputs": [
    {
     "name": "stdout",
     "output_type": "stream",
     "text": [
      "Mean Squared Error for the model is 4.183859899002975\n",
      "Root Mean Squared Error for the model is 2.0454485813637495\n",
      "Data seems to be a good fit !\n"
     ]
    }
   ],
   "source": [
    "MSE = metrics.mean_absolute_error(y_test,y_pred)\n",
    "print(\"Mean Squared Error for the model is {}\".format(MSE))\n",
    "print(\"Root Mean Squared Error for the model is {}\".format(np.sqrt(MSE)))\n",
    "print(\"Data seems to be a good fit !\")"
   ]
  },
  {
   "cell_type": "markdown",
   "id": "f668dfe1",
   "metadata": {},
   "source": [
    "### THANK YOU !"
   ]
  }
 ],
 "metadata": {
  "kernelspec": {
   "display_name": "Python 3",
   "language": "python",
   "name": "python3"
  },
  "language_info": {
   "codemirror_mode": {
    "name": "ipython",
    "version": 3
   },
   "file_extension": ".py",
   "mimetype": "text/x-python",
   "name": "python",
   "nbconvert_exporter": "python",
   "pygments_lexer": "ipython3",
   "version": "3.8.8"
  }
 },
 "nbformat": 4,
 "nbformat_minor": 5
}
